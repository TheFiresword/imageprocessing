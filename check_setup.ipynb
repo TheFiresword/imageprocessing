{
 "cells": [
  {
   "cell_type": "code",
   "execution_count": 1,
   "metadata": {},
   "outputs": [
    {
     "name": "stdout",
     "output_type": "stream",
     "text": [
      "\n",
      "Successfully imported all required libraries.\n",
      "\n",
      "Successfully executed exiftool.\n"
     ]
    }
   ],
   "source": [
    "import cv2 #openCV\n",
    "import exiftool\n",
    "import os, glob\n",
    "import numpy as np\n",
    "import pyzbar.pyzbar as pyzbar\n",
    "import matplotlib.pyplot as plt\n",
    "import mapboxgl\n",
    "\n",
    "print()\n",
    "print(\"Successfully imported all required libraries.\")\n",
    "print()\n",
    "\n",
    "if os.name == 'nt':\n",
    "    if os.environ.get('exiftoolpath') is None:\n",
    "        print(\"Set the `exiftoolpath` environment variable as described above\")\n",
    "    else:\n",
    "        if not os.path.isfile(os.environ.get('exiftoolpath')):\n",
    "            print(\"The provided exiftoolpath isn't a file, check the settings\")\n",
    "\n",
    "try:\n",
    "    with exiftool.ExifTool(os.environ.get('exiftoolpath')) as exift:\n",
    "        print('Successfully executed exiftool.')\n",
    "except Exception as e:\n",
    "    print(\"Exiftool isn't working. Double check that you've followed the instructions above.\")\n",
    "    print(\"The execption text below may help to find the source of the problem:\")\n",
    "    print()\n",
    "    print(e)"
   ]
  },
  {
   "cell_type": "code",
   "execution_count": null,
   "metadata": {},
   "outputs": [],
   "source": [
    "from micasense.image import Image\n",
    "repo = 'REDEDGE-MX' # ALTUM, ALTUM-PT, REDEDGE-P, 0000SET\n",
    "imagePath = os.path.join('.','data','0000SET', '000')\n",
    "imageName = glob.glob(os.path.join(imagePath,'IMG_0000_1.tif'))[0]\n",
    "\n",
    "img = Image(imageName)\n",
    "img.plot_raw(figsize=(8.73,8.73))\n",
    "\n",
    "from micasense.panel import Panel\n",
    "panel = Panel(img)\n",
    "if not panel.panel_detected():\n",
    "    raise IOError(\"Panel Not Detected! Check your installation of pyzbar\")\n",
    "else:\n",
    "    panel.plot(figsize=(8,8))\n",
    "\n",
    "print('Success! Now you are ready for Part 1 of the tutorial.')"
   ]
  },
  {
   "cell_type": "code",
   "execution_count": null,
   "metadata": {},
   "outputs": [],
   "source": [
    "import requests\n",
    "import time\n",
    "\n",
    "# Adresse IP de la caméra\n",
    "CAMERA_IP = \"192.168.1.83\"\n",
    "CAPTURE_URL = f\"http://{CAMERA_IP}/capture\"\n",
    "CAPTURE_CONF_URL = f\"http://{CAMERA_IP}/config\"\n",
    "DETECT_PANNEL_URL = f\"http://{CAMERA_IP}/detect_panel\"\n",
    "\n",
    "class TeddyFlight:\n",
    "    def __init__(self, capture_interval:float = 0.9) -> None:\n",
    "        self.capture_interval = capture_interval\n",
    "        pass\n",
    "    \n",
    "    def detect_pannel(self):\n",
    "        cresponse = self.capture_image(args={\"detect_panel\": True})\n",
    "        if cresponse.get(\"status\") == \"error\":\n",
    "            print(\"Camera failed to detect a pannel\\nRetrying in 3sRetrying in 3s............\")\n",
    "            time.sleep(3)\n",
    "            self.detect_pannel()\n",
    "\n",
    "    def set_config(self):\n",
    "        capture_conf = {\"auto_cap_mode\": \"timer\", \"timer_period\": self.capture_interval, \"audio_enable\": True}\n",
    "        response = requests.post(CAPTURE_URL, json=capture_conf)\n",
    "        if response.status_code == 200:\n",
    "            print(\"Configuration set successfully\")\n",
    "        else:\n",
    "            print(\"Failed to configure\")\n",
    "            \n",
    "    def capture_image(self, args:dict = {}):\n",
    "        presponse = requests.post(DETECT_PANNEL_URL, json={\"abort_detect_panel\": True})\n",
    "        if presponse.status_code == 200:\n",
    "            assert presponse.json().get(\"detect_panel\") == False, \"Failed to abort the pannel detection mode even though the request was successful\\nProbably an internal error\"\n",
    "        else:\n",
    "            print(\"Failed to abort the pannel detection mode\")\n",
    "            self.capture_image()\n",
    "            \n",
    "        if args == {}:\n",
    "            response = requests.get(CAPTURE_URL)\n",
    "        else:\n",
    "            response = requests.post(CAPTURE_URL, json=args)\n",
    "        if response.status_code == 200:\n",
    "            print(\"Image captured successfully\")\n",
    "        else:\n",
    "            print(\"Failed to capture image\")\n",
    "        return response.json()\n",
    "    \n",
    "    def launch(self):\n",
    "        self.detect_pannel()\n",
    "        self.set_config()\n",
    "        self.capture_image()\n",
    "        \n",
    "        # The following approach offers more flexibility on each capture but may increase the delta time between each capture\n",
    "        #while True:\n",
    "        #    self.capture_image()\n",
    "        #    time.sleep(self.capture_interval)\n",
    "\n",
    "if __name__ == \"__main__\":\n",
    "    TeddyFlight().launch()\n"
   ]
  },
  {
   "cell_type": "code",
   "execution_count": 13,
   "metadata": {},
   "outputs": [
    {
     "ename": "OSError",
     "evalue": "All files in file list must be a file. The following file is not:\n/media/junior/MicaSense/0000SET",
     "output_type": "error",
     "traceback": [
      "\u001b[0;31m---------------------------------------------------------------------------\u001b[0m",
      "\u001b[0;31mOSError\u001b[0m                                   Traceback (most recent call last)",
      "Cell \u001b[0;32mIn[13], line 7\u001b[0m\n\u001b[1;32m      3\u001b[0m \u001b[38;5;28;01mimport\u001b[39;00m \u001b[38;5;21;01mmicasense\u001b[39;00m\u001b[38;5;21;01m.\u001b[39;00m\u001b[38;5;21;01mimageutils\u001b[39;00m \u001b[38;5;28;01mas\u001b[39;00m \u001b[38;5;21;01mimageutils\u001b[39;00m\n\u001b[1;32m      5\u001b[0m image_folder \u001b[38;5;241m=\u001b[39m \u001b[38;5;124m'\u001b[39m\u001b[38;5;124m/media/junior/MicaSense\u001b[39m\u001b[38;5;124m'\u001b[39m\n\u001b[0;32m----> 7\u001b[0m captures \u001b[38;5;241m=\u001b[39m \u001b[43mcapture\u001b[49m\u001b[38;5;241;43m.\u001b[39;49m\u001b[43mCapture\u001b[49m\u001b[38;5;241;43m.\u001b[39;49m\u001b[43mfrom_filelist\u001b[49m\u001b[43m(\u001b[49m\u001b[43m[\u001b[49m\u001b[43mos\u001b[49m\u001b[38;5;241;43m.\u001b[39;49m\u001b[43mpath\u001b[49m\u001b[38;5;241;43m.\u001b[39;49m\u001b[43mjoin\u001b[49m\u001b[43m(\u001b[49m\u001b[43mimage_folder\u001b[49m\u001b[43m,\u001b[49m\u001b[43m \u001b[49m\u001b[43mfname\u001b[49m\u001b[43m)\u001b[49m\u001b[43m \u001b[49m\u001b[38;5;28;43;01mfor\u001b[39;49;00m\u001b[43m \u001b[49m\u001b[43mfname\u001b[49m\u001b[43m \u001b[49m\u001b[38;5;129;43;01min\u001b[39;49;00m\u001b[43m \u001b[49m\u001b[43mos\u001b[49m\u001b[38;5;241;43m.\u001b[39;49m\u001b[43mlistdir\u001b[49m\u001b[43m(\u001b[49m\u001b[43mimage_folder\u001b[49m\u001b[43m)\u001b[49m\u001b[43m]\u001b[49m\u001b[43m)\u001b[49m\n\u001b[1;32m      9\u001b[0m panel_cap \u001b[38;5;241m=\u001b[39m captures[\u001b[38;5;241m0\u001b[39m]\n\u001b[1;32m     10\u001b[0m calibrated_panel \u001b[38;5;241m=\u001b[39m panel_cap\u001b[38;5;241m.\u001b[39mpanel_radiance()\n",
      "File \u001b[0;32m~/Documents/stage-4a-SEDOGBO/raspberry/imageprocessing/micasense/capture.py:155\u001b[0m, in \u001b[0;36mCapture.from_filelist\u001b[0;34m(cls, file_list, allow_uncalibrated)\u001b[0m\n\u001b[1;32m    153\u001b[0m \u001b[38;5;28;01mfor\u001b[39;00m fle \u001b[38;5;129;01min\u001b[39;00m file_list:\n\u001b[1;32m    154\u001b[0m     \u001b[38;5;28;01mif\u001b[39;00m \u001b[38;5;129;01mnot\u001b[39;00m os\u001b[38;5;241m.\u001b[39mpath\u001b[38;5;241m.\u001b[39misfile(fle):\n\u001b[0;32m--> 155\u001b[0m         \u001b[38;5;28;01mraise\u001b[39;00m \u001b[38;5;167;01mIOError\u001b[39;00m(\u001b[38;5;124mf\u001b[39m\u001b[38;5;124m\"\u001b[39m\u001b[38;5;124mAll files in file list must be a file. The following file is not:\u001b[39m\u001b[38;5;130;01m\\n\u001b[39;00m\u001b[38;5;132;01m{\u001b[39;00mfle\u001b[38;5;132;01m}\u001b[39;00m\u001b[38;5;124m\"\u001b[39m)\n\u001b[1;32m    156\u001b[0m images \u001b[38;5;241m=\u001b[39m [image\u001b[38;5;241m.\u001b[39mImage(fle, allow_uncalibrated\u001b[38;5;241m=\u001b[39mallow_uncalibrated) \u001b[38;5;28;01mfor\u001b[39;00m fle \u001b[38;5;129;01min\u001b[39;00m file_list]\n\u001b[1;32m    157\u001b[0m \u001b[38;5;28;01mreturn\u001b[39;00m \u001b[38;5;28mcls\u001b[39m(images)\n",
      "\u001b[0;31mOSError\u001b[0m: All files in file list must be a file. The following file is not:\n/media/junior/MicaSense/0000SET"
     ]
    }
   ],
   "source": [
    "import os\n",
    "import micasense.capture as capture\n",
    "import micasense.imageutils as imageutils\n",
    "\n",
    "image_folder = '/media/junior/MicaSense'\n",
    "\n",
    "captures = capture.Capture.from_filelist([os.path.join(image_folder, fname) for fname in os.listdir(image_folder)])\n",
    "\n",
    "panel_cap = captures[0]\n",
    "calibrated_panel = panel_cap.panel_radiance()\n",
    "\n",
    "for cap in captures[1:]:\n",
    "    cap.set_panel_radiance(calibrated_panel)\n",
    "    cap.plot_undistorted_reflectance()\n",
    "\n",
    "for cap in captures:\n",
    "    cap.save_raw()\n"
   ]
  }
 ],
 "metadata": {
  "kernelspec": {
   "display_name": "base",
   "language": "python",
   "name": "python3"
  },
  "language_info": {
   "codemirror_mode": {
    "name": "ipython",
    "version": 3
   },
   "file_extension": ".py",
   "mimetype": "text/x-python",
   "name": "python",
   "nbconvert_exporter": "python",
   "pygments_lexer": "ipython3",
   "version": "3.8.19"
  }
 },
 "nbformat": 4,
 "nbformat_minor": 2
}
