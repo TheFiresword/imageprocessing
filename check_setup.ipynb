{
 "cells": [
  {
   "cell_type": "code",
   "execution_count": null,
   "metadata": {},
   "outputs": [],
   "source": [
    "import cv2 #openCV\n",
    "import exiftool\n",
    "import os, glob\n",
    "import numpy as np\n",
    "import pyzbar.pyzbar as pyzbar\n",
    "import matplotlib.pyplot as plt\n",
    "import mapboxgl\n",
    "\n",
    "print()\n",
    "print(\"Successfully imported all required libraries.\")\n",
    "print()\n",
    "\n",
    "if os.name == 'nt':\n",
    "    if os.environ.get('exiftoolpath') is None:\n",
    "        print(\"Set the `exiftoolpath` environment variable as described above\")\n",
    "    else:\n",
    "        if not os.path.isfile(os.environ.get('exiftoolpath')):\n",
    "            print(\"The provided exiftoolpath isn't a file, check the settings\")\n",
    "\n",
    "try:\n",
    "    with exiftool.ExifTool(os.environ.get('exiftoolpath')) as exift:\n",
    "        print('Successfully executed exiftool.')\n",
    "except Exception as e:\n",
    "    print(\"Exiftool isn't working. Double check that you've followed the instructions above.\")\n",
    "    print(\"The execption text below may help to find the source of the problem:\")\n",
    "    print()\n",
    "    print(e)"
   ]
  },
  {
   "cell_type": "code",
   "execution_count": null,
   "metadata": {},
   "outputs": [],
   "source": [
    "from micasense.image import Image\n",
    "repo = 'REDEDGE-MX' # ALTUM, ALTUM-PT, REDEDGE-P, 0000SET\n",
    "imagePath = os.path.join('.','data','0000SET', '000')\n",
    "imageName = glob.glob(os.path.join(imagePath,'IMG_0000_1.tif'))[0]\n",
    "\n",
    "img = Image(imageName)\n",
    "img.plot_raw(figsize=(8.73,8.73))\n",
    "\n",
    "from micasense.panel import Panel\n",
    "panel = Panel(img)\n",
    "if not panel.panel_detected():\n",
    "    raise IOError(\"Panel Not Detected! Check your installation of pyzbar\")\n",
    "else:\n",
    "    panel.plot(figsize=(8,8))\n",
    "\n",
    "print('Success! Now you are ready for Part 1 of the tutorial.')"
   ]
  }
 ],
 "metadata": {
  "kernelspec": {
   "display_name": "base",
   "language": "python",
   "name": "python3"
  },
  "language_info": {
   "codemirror_mode": {
    "name": "ipython",
    "version": 3
   },
   "file_extension": ".py",
   "mimetype": "text/x-python",
   "name": "python",
   "nbconvert_exporter": "python",
   "pygments_lexer": "ipython3",
   "version": "3.8.19"
  }
 },
 "nbformat": 4,
 "nbformat_minor": 2
}
